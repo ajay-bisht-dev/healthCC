{
 "cells": [
  {
   "cell_type": "code",
   "execution_count": 4,
   "metadata": {},
   "outputs": [
    {
     "data": {
      "text/plain": [
       "1"
      ]
     },
     "execution_count": 4,
     "metadata": {},
     "output_type": "execute_result"
    }
   ],
   "source": [
    "import pymysql.cursors\n",
    "connection = pymysql.connect(host='localhost',\n",
    "                             user='root',\n",
    "                             password='root')\n",
    "                             #db='db',\n",
    "                             #charset='utf8mb4',\n",
    "                             #cursorclass=pymysql.cursors.DictCursor)\n",
    "#db1 = pymysql.connect(host=\"localhost\",user=\"root\",passwd=\"root\")\n",
    "cursor = connection.cursor()\n",
    "sql = 'CREATE DATABASE mydata'\n",
    "cursor.execute(sql)"
   ]
  }
 ],
 "metadata": {
  "kernelspec": {
   "display_name": "Python (healthCC)",
   "language": "python",
   "name": "healthcc"
  },
  "language_info": {
   "codemirror_mode": {
    "name": "ipython",
    "version": 3
   },
   "file_extension": ".py",
   "mimetype": "text/x-python",
   "name": "python",
   "nbconvert_exporter": "python",
   "pygments_lexer": "ipython3",
   "version": "3.6.4"
  }
 },
 "nbformat": 4,
 "nbformat_minor": 2
}
